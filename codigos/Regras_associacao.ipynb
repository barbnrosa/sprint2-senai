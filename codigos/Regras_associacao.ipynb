{
 "cells": [
  {
   "cell_type": "markdown",
   "metadata": {},
   "source": [
    "# <center> Aplicação das Regras de Associação <center>"
   ]
  },
  {
   "cell_type": "code",
   "execution_count": 21,
   "metadata": {},
   "outputs": [],
   "source": [
    "# Importando as bibliotecas necessárias\n",
    "import pandas as pd\n",
    "import plotly.express as px\n",
    "import plotly.graph_objects as go\n",
    "from mlxtend.preprocessing import TransactionEncoder\n",
    "from mlxtend.frequent_patterns import apriori, association_rules\n"
   ]
  },
  {
   "cell_type": "code",
   "execution_count": 38,
   "metadata": {},
   "outputs": [],
   "source": [
    "# Funções utilizadas no código\n",
    "def processar_valor(valor):\n",
    "    \"\"\" \n",
    "    Processa os valores de Produto GPOM e Área de Atuação\n",
    "\n",
    "    Parâmetros:\n",
    "    - valor: coluna onde deseja que o 'NÃO INFORMADO' seja retirado\n",
    "\n",
    "    Retorna:\n",
    "    - coluna com os novos valores sem o 'NÃO INFORMADO'\n",
    "    \"\"\"\n",
    "    if 'NÃO INFORMADO' in valor:\n",
    "        return valor.replace(' / NÃO INFORMADO', '')  # Remove apenas a parte 'NÃO INFORMADO'\n",
    "    else:\n",
    "        return f'{valor}'\n",
    "\n",
    " \n",
    "def processar_regras_associacao_pf(df_pf, support, confidence):\n",
    "    \"\"\"\n",
    "    Cria um dataframe com as regras de associação para pessoa física.\n",
    "    \n",
    "    Parâmetros:\n",
    "    - df: DataFrame contendo os dados.\n",
    "    \n",
    "    Retorna:\n",
    "    - dataframe com produtos antecedentes, consequentes e parâmetros de avaliação.\n",
    "    \"\"\"\n",
    "    transacao = []\n",
    "\n",
    "    for cliente_id in df_pf['ID Cliente'].unique():\n",
    "        # Obtem todas as transações do cliente\n",
    "        transacoes_cliente = df_pf[df_pf['ID Cliente'] == cliente_id]\n",
    "\n",
    "        # Agrega transações por produto e data de nascimento\n",
    "        transacoes_agrupadas = transacoes_cliente.groupby(['Produto GPOM e Área de Atuação', 'Data de Nascimento']).size().reset_index(name='count')\n",
    "\n",
    "        # Cria uma lista de produtos únicos por cliente\n",
    "        lista_produtos = list(transacoes_agrupadas['Produto GPOM e Área de Atuação'])\n",
    "\n",
    "        # Adiciona lista de produtos únicos à lista de transações\n",
    "        transacao.append(lista_produtos)\n",
    "\n",
    "    te = TransactionEncoder()\n",
    "    transacao_te = te.fit(transacao).transform(transacao)\n",
    "\n",
    "    # Transforma em dataframe\n",
    "    transacao_transformado = pd.DataFrame(transacao_te, columns=te.columns_)\n",
    "\n",
    "    items_frequentes_apriori = apriori(transacao_transformado, use_colnames=True, min_support=support)\n",
    "    items_frequentes_apriori_sorted = items_frequentes_apriori.sort_values(['support'],ascending=False)\n",
    "\n",
    "    regras_apriori = association_rules(items_frequentes_apriori_sorted, metric='confidence', min_threshold=confidence)\n",
    "    return regras_apriori\n",
    "\n",
    "def processar_regras_associacao_pj(df_pj, support, confidence):\n",
    "    \"\"\"\n",
    "    Cria um dataframe com as regras de associação para pessoa jurídica.\n",
    "    \n",
    "    Parâmetros:\n",
    "    - df: DataFrame contendo os dados.\n",
    "    \n",
    "    Retorna:\n",
    "    - dataframe com produtos antecedentes, consequentes e parâmetros de avaliação.\n",
    "    \"\"\"\n",
    "\n",
    "    transacao = []\n",
    "\n",
    "    for cliente_id in df_pj['ID Cliente'].unique():\n",
    "        # Obter todas as transações do cliente\n",
    "        transacoes_cliente = df_pj[df_pj['ID Cliente'] == cliente_id]\n",
    "\n",
    "        # Agregar transações por produto e data de nascimento\n",
    "        transacoes_agrupadas = transacoes_cliente.groupby(['Produto GPOM e Área de Atuação']).size().reset_index(name='count')\n",
    "\n",
    "        # Criar uma lista de produtos únicos por cliente\n",
    "        lista_produtos = list(transacoes_agrupadas['Produto GPOM e Área de Atuação'])\n",
    "\n",
    "        # Adicionar lista de produtos únicos à lista de transações\n",
    "        transacao.append(lista_produtos)\n",
    "\n",
    "    te = TransactionEncoder() # estanciar função\n",
    "    transacao_te = te.fit(transacao).transform(transacao)\n",
    "\n",
    "    # transformar em dataframe\n",
    "    transacao_transformado = pd.DataFrame(transacao_te, columns=te.columns_)\n",
    "\n",
    "    items_frequentes_apriori = apriori(transacao_transformado, use_colnames=True, min_support=support)\n",
    "    items_frequentes_apriori_sorted = items_frequentes_apriori.sort_values(['support'],ascending=False)\n",
    "\n",
    "    regras_apriori = association_rules(items_frequentes_apriori_sorted, metric='confidence', min_threshold=confidence)\n",
    "    return regras_apriori\n",
    "\n",
    "def filter_consequents(regras, antecedent):\n",
    "    \"\"\"\n",
    "    Filtra os consequentes de acordo com um antecedente específico em um DataFrame de regras de associação.\n",
    "    \n",
    "    Parâmetros:\n",
    "    - regras: DataFrame contendo as regras de associação.\n",
    "    - antecedent: antecedente específico para o qual os consequentes serão filtrados.\n",
    "\n",
    "    Retorna:\n",
    "    - Uma lista de produtos consequentes para o antecedente especificado.\n",
    "    \"\"\"\n",
    "\n",
    "    consequents = regras[regras['antecedents'].apply(lambda x: antecedent in x)]['consequents']\n",
    "    return consequents.explode().unique()\n",
    "\n",
    "def find_associated_products(client_products, rules_df):\n",
    "    \"\"\"\n",
    "    Gera uma lista de produtos recomendados para um determinado cliente.\n",
    "    \n",
    "    Parâmetros:\n",
    "    - client_products: produtos que o cliente comprou.\n",
    "    - rules_df: dataframe com as regras de associaçãi\n",
    "\n",
    "    Retorna:\n",
    "    - dista de produtos recomendados para um determinado cliente.\n",
    "    \"\"\"\n",
    "    associated_products = set()\n",
    "    \n",
    "    # Convertendo client_products para sets para facilitar a comparação\n",
    "    client_product_sets = [frozenset([item]) for item in client_products]\n",
    "    \n",
    "    for client_product_set in client_product_sets:\n",
    "        for _, row in rules_df.iterrows():\n",
    "            # Se o produto do cliente é um subconjunto dos antecedentes ou dos consequentes\n",
    "            if client_product_set.issubset(row['antecedents']) or client_product_set.issubset(row['consequents']):\n",
    "                # Adicionamos os produtos associados dos antecedentes e dos consequentes\n",
    "                associated_products.update(row['antecedents'].union(row['consequents']))\n",
    "    \n",
    "    client_product_sets_2 =  frozenset(client_products)\n",
    "    ## Removendo os produtos que o cliente já compra, já que estamos interessados apenas nos novos produtos associados\n",
    "    associated_products.difference_update(client_product_sets_2)\n",
    "    \n",
    "    # Converter o set em uma lista para exibição\n",
    "    return list(associated_products)\n",
    "\n"
   ]
  },
  {
   "cell_type": "markdown",
   "metadata": {},
   "source": [
    "## 1. Carregamento e tratamento das bases de dados"
   ]
  },
  {
   "cell_type": "code",
   "execution_count": 23,
   "metadata": {},
   "outputs": [],
   "source": [
    "# Importando os dados tratados de pessoa física e jurídica\n",
    "df_pf = pd.read_csv('../dados/PF_tratados.csv')\n",
    "df_pj = pd.read_csv('../dados/PJ_tratados.csv')"
   ]
  },
  {
   "cell_type": "code",
   "execution_count": 24,
   "metadata": {},
   "outputs": [],
   "source": [
    "# Limpeza da coluna Produto GPOM e Área de Atuação\n",
    "# Pessoa Física\n",
    "df_pf['Produto GPOM e Área de Atuação'] = df_pf['Área de Atuação e Produto GPOM'].apply(processar_valor)\n",
    "\n",
    "# Pessoa Jurídica\n",
    "df_pj['Produto GPOM e Área de Atuação'] = df_pj['Área de Atuação e Produto GPOM'].apply(processar_valor)\n",
    "\n"
   ]
  },
  {
   "cell_type": "markdown",
   "metadata": {},
   "source": [
    "## 2. Aplicaçao do Algoritmo Apriori"
   ]
  },
  {
   "cell_type": "markdown",
   "metadata": {},
   "source": [
    "### 2.1 Pessoa Física"
   ]
  },
  {
   "cell_type": "code",
   "execution_count": 25,
   "metadata": {},
   "outputs": [
    {
     "data": {
      "text/html": [
       "<div>\n",
       "<style scoped>\n",
       "    .dataframe tbody tr th:only-of-type {\n",
       "        vertical-align: middle;\n",
       "    }\n",
       "\n",
       "    .dataframe tbody tr th {\n",
       "        vertical-align: top;\n",
       "    }\n",
       "\n",
       "    .dataframe thead th {\n",
       "        text-align: right;\n",
       "    }\n",
       "</style>\n",
       "<table border=\"1\" class=\"dataframe\">\n",
       "  <thead>\n",
       "    <tr style=\"text-align: right;\">\n",
       "      <th></th>\n",
       "      <th>ID Cliente</th>\n",
       "      <th>Linha de Ação</th>\n",
       "      <th>Produto GPOM</th>\n",
       "      <th>Data de Venda</th>\n",
       "      <th>Classe de Serviço</th>\n",
       "      <th>Data de Nascimento</th>\n",
       "      <th>Gênero</th>\n",
       "      <th>Cidade</th>\n",
       "      <th>Microrregião</th>\n",
       "      <th>Estado</th>\n",
       "      <th>Fim de Vigência</th>\n",
       "      <th>Tipo Pessoa</th>\n",
       "      <th>Área de Atuação</th>\n",
       "      <th>Área de Atuação e Produto GPOM</th>\n",
       "      <th>Idade</th>\n",
       "      <th>Tempo de Contrato</th>\n",
       "      <th>Longitude</th>\n",
       "      <th>Latitude</th>\n",
       "      <th>Produto GPOM e Área de Atuação</th>\n",
       "    </tr>\n",
       "  </thead>\n",
       "  <tbody>\n",
       "    <tr>\n",
       "      <th>23</th>\n",
       "      <td>43969</td>\n",
       "      <td>EDUCACAO</td>\n",
       "      <td>ENSINO FUNDAMENTAL INTERNACIONAL</td>\n",
       "      <td>2022-09-29</td>\n",
       "      <td>ENSINO FUNDAMENTAL - 6º AO 9º ANO</td>\n",
       "      <td>2011-09-05</td>\n",
       "      <td>FEMININO</td>\n",
       "      <td>CURITIBA</td>\n",
       "      <td>CURITIBA</td>\n",
       "      <td>PR</td>\n",
       "      <td>2023-12-15</td>\n",
       "      <td>FÍSICA</td>\n",
       "      <td>NÃO INFORMADO</td>\n",
       "      <td>ENSINO FUNDAMENTAL INTERNACIONAL / NÃO INFORMADO</td>\n",
       "      <td>11</td>\n",
       "      <td>442</td>\n",
       "      <td>-49.264622</td>\n",
       "      <td>-25.419547</td>\n",
       "      <td>ENSINO FUNDAMENTAL INTERNACIONAL</td>\n",
       "    </tr>\n",
       "    <tr>\n",
       "      <th>28</th>\n",
       "      <td>11950</td>\n",
       "      <td>EDUCACAO</td>\n",
       "      <td>ENSINO FUNDAMENTAL INTERNACIONAL</td>\n",
       "      <td>2023-11-06</td>\n",
       "      <td>ENSINO FUNDAMENTAL - 6º AO 9º ANO</td>\n",
       "      <td>2012-03-09</td>\n",
       "      <td>MASCULINO</td>\n",
       "      <td>CURITIBA</td>\n",
       "      <td>CURITIBA</td>\n",
       "      <td>PR</td>\n",
       "      <td>2024-12-31</td>\n",
       "      <td>FÍSICA</td>\n",
       "      <td>NÃO INFORMADO</td>\n",
       "      <td>ENSINO FUNDAMENTAL INTERNACIONAL / NÃO INFORMADO</td>\n",
       "      <td>11</td>\n",
       "      <td>421</td>\n",
       "      <td>-49.264622</td>\n",
       "      <td>-25.419547</td>\n",
       "      <td>ENSINO FUNDAMENTAL INTERNACIONAL</td>\n",
       "    </tr>\n",
       "    <tr>\n",
       "      <th>29</th>\n",
       "      <td>21866</td>\n",
       "      <td>EDUCACAO</td>\n",
       "      <td>ENSINO FUNDAMENTAL INTERNACIONAL</td>\n",
       "      <td>2022-12-05</td>\n",
       "      <td>ENSINO FUNDAMENTAL - 6º AO 9º ANO</td>\n",
       "      <td>2011-08-08</td>\n",
       "      <td>FEMININO</td>\n",
       "      <td>CURITIBA</td>\n",
       "      <td>CURITIBA</td>\n",
       "      <td>PR</td>\n",
       "      <td>2023-12-31</td>\n",
       "      <td>FÍSICA</td>\n",
       "      <td>NÃO INFORMADO</td>\n",
       "      <td>ENSINO FUNDAMENTAL INTERNACIONAL / NÃO INFORMADO</td>\n",
       "      <td>11</td>\n",
       "      <td>391</td>\n",
       "      <td>-49.264622</td>\n",
       "      <td>-25.419547</td>\n",
       "      <td>ENSINO FUNDAMENTAL INTERNACIONAL</td>\n",
       "    </tr>\n",
       "    <tr>\n",
       "      <th>48</th>\n",
       "      <td>88900</td>\n",
       "      <td>EDUCACAO</td>\n",
       "      <td>ENSINO FUNDAMENTAL INTERNACIONAL</td>\n",
       "      <td>2022-01-17</td>\n",
       "      <td>ENSINO FUNDAMENTAL - 6º AO 9º ANO</td>\n",
       "      <td>2011-06-14</td>\n",
       "      <td>FEMININO</td>\n",
       "      <td>CURITIBA</td>\n",
       "      <td>CURITIBA</td>\n",
       "      <td>PR</td>\n",
       "      <td>2022-12-31</td>\n",
       "      <td>FÍSICA</td>\n",
       "      <td>NÃO INFORMADO</td>\n",
       "      <td>ENSINO FUNDAMENTAL INTERNACIONAL / NÃO INFORMADO</td>\n",
       "      <td>10</td>\n",
       "      <td>348</td>\n",
       "      <td>-49.264622</td>\n",
       "      <td>-25.419547</td>\n",
       "      <td>ENSINO FUNDAMENTAL INTERNACIONAL</td>\n",
       "    </tr>\n",
       "    <tr>\n",
       "      <th>49</th>\n",
       "      <td>88900</td>\n",
       "      <td>EDUCACAO</td>\n",
       "      <td>ENSINO FUNDAMENTAL INTERNACIONAL</td>\n",
       "      <td>2022-10-25</td>\n",
       "      <td>ENSINO FUNDAMENTAL - 6º AO 9º ANO</td>\n",
       "      <td>2011-06-14</td>\n",
       "      <td>FEMININO</td>\n",
       "      <td>CURITIBA</td>\n",
       "      <td>CURITIBA</td>\n",
       "      <td>PR</td>\n",
       "      <td>2023-12-15</td>\n",
       "      <td>FÍSICA</td>\n",
       "      <td>NÃO INFORMADO</td>\n",
       "      <td>ENSINO FUNDAMENTAL INTERNACIONAL / NÃO INFORMADO</td>\n",
       "      <td>11</td>\n",
       "      <td>416</td>\n",
       "      <td>-49.264622</td>\n",
       "      <td>-25.419547</td>\n",
       "      <td>ENSINO FUNDAMENTAL INTERNACIONAL</td>\n",
       "    </tr>\n",
       "  </tbody>\n",
       "</table>\n",
       "</div>"
      ],
      "text/plain": [
       "    ID Cliente Linha de Ação                      Produto GPOM Data de Venda  \\\n",
       "23       43969      EDUCACAO  ENSINO FUNDAMENTAL INTERNACIONAL    2022-09-29   \n",
       "28       11950      EDUCACAO  ENSINO FUNDAMENTAL INTERNACIONAL    2023-11-06   \n",
       "29       21866      EDUCACAO  ENSINO FUNDAMENTAL INTERNACIONAL    2022-12-05   \n",
       "48       88900      EDUCACAO  ENSINO FUNDAMENTAL INTERNACIONAL    2022-01-17   \n",
       "49       88900      EDUCACAO  ENSINO FUNDAMENTAL INTERNACIONAL    2022-10-25   \n",
       "\n",
       "                    Classe de Serviço Data de Nascimento     Gênero    Cidade  \\\n",
       "23  ENSINO FUNDAMENTAL - 6º AO 9º ANO         2011-09-05   FEMININO  CURITIBA   \n",
       "28  ENSINO FUNDAMENTAL - 6º AO 9º ANO         2012-03-09  MASCULINO  CURITIBA   \n",
       "29  ENSINO FUNDAMENTAL - 6º AO 9º ANO         2011-08-08   FEMININO  CURITIBA   \n",
       "48  ENSINO FUNDAMENTAL - 6º AO 9º ANO         2011-06-14   FEMININO  CURITIBA   \n",
       "49  ENSINO FUNDAMENTAL - 6º AO 9º ANO         2011-06-14   FEMININO  CURITIBA   \n",
       "\n",
       "   Microrregião Estado Fim de Vigência Tipo Pessoa Área de Atuação  \\\n",
       "23     CURITIBA     PR      2023-12-15      FÍSICA   NÃO INFORMADO   \n",
       "28     CURITIBA     PR      2024-12-31      FÍSICA   NÃO INFORMADO   \n",
       "29     CURITIBA     PR      2023-12-31      FÍSICA   NÃO INFORMADO   \n",
       "48     CURITIBA     PR      2022-12-31      FÍSICA   NÃO INFORMADO   \n",
       "49     CURITIBA     PR      2023-12-15      FÍSICA   NÃO INFORMADO   \n",
       "\n",
       "                      Área de Atuação e Produto GPOM  Idade  \\\n",
       "23  ENSINO FUNDAMENTAL INTERNACIONAL / NÃO INFORMADO     11   \n",
       "28  ENSINO FUNDAMENTAL INTERNACIONAL / NÃO INFORMADO     11   \n",
       "29  ENSINO FUNDAMENTAL INTERNACIONAL / NÃO INFORMADO     11   \n",
       "48  ENSINO FUNDAMENTAL INTERNACIONAL / NÃO INFORMADO     10   \n",
       "49  ENSINO FUNDAMENTAL INTERNACIONAL / NÃO INFORMADO     11   \n",
       "\n",
       "    Tempo de Contrato  Longitude   Latitude    Produto GPOM e Área de Atuação  \n",
       "23                442 -49.264622 -25.419547  ENSINO FUNDAMENTAL INTERNACIONAL  \n",
       "28                421 -49.264622 -25.419547  ENSINO FUNDAMENTAL INTERNACIONAL  \n",
       "29                391 -49.264622 -25.419547  ENSINO FUNDAMENTAL INTERNACIONAL  \n",
       "48                348 -49.264622 -25.419547  ENSINO FUNDAMENTAL INTERNACIONAL  \n",
       "49                416 -49.264622 -25.419547  ENSINO FUNDAMENTAL INTERNACIONAL  "
      ]
     },
     "execution_count": 25,
     "metadata": {},
     "output_type": "execute_result"
    }
   ],
   "source": [
    "# Filtrar o dataframe\n",
    "faixas_etarias = {\n",
    "        '0 a 12 anos': (0, 12),\n",
    "        '13 a 17 anos': (13, 17),\n",
    "        '18 a 24 anos': (18, 24),\n",
    "        '25 a 34 anos': (25, 34),\n",
    "        '35 a 64 anos': (35, 64),\n",
    "        '65 anos ou mais': (65, 80),\n",
    "        'Todas': (0, 80) \n",
    "    }\n",
    "faixas = ['0 a 12 anos', '13 a 17 anos', '18 a 24 anos', '25 a 34 anos', '35 a 64 anos', '65 anos ou mais', 'Todas']\n",
    "faixa_etaria = '0 a 12 anos'\n",
    "idade_inicio, idade_fim = faixas_etarias[faixa_etaria]\n",
    "filtered_df_pf_idade = df_pf[(df_pf['Idade'] >= idade_inicio) & (df_pf['Idade'] <= idade_fim)]\n",
    "\n",
    "selected_estado = 'PR'\n",
    "filtered_df_pf_estado = filtered_df_pf_idade[filtered_df_pf_idade['Estado'] == selected_estado]\n",
    "\n",
    "selected_cidade = 'CURITIBA'\n",
    "filtered_df_pf = filtered_df_pf_estado[filtered_df_pf_estado['Cidade'] == selected_cidade]\n",
    "filtered_df_pf.head()"
   ]
  },
  {
   "cell_type": "code",
   "execution_count": 27,
   "metadata": {},
   "outputs": [
    {
     "data": {
      "text/html": [
       "<div>\n",
       "<style scoped>\n",
       "    .dataframe tbody tr th:only-of-type {\n",
       "        vertical-align: middle;\n",
       "    }\n",
       "\n",
       "    .dataframe tbody tr th {\n",
       "        vertical-align: top;\n",
       "    }\n",
       "\n",
       "    .dataframe thead th {\n",
       "        text-align: right;\n",
       "    }\n",
       "</style>\n",
       "<table border=\"1\" class=\"dataframe\">\n",
       "  <thead>\n",
       "    <tr style=\"text-align: right;\">\n",
       "      <th></th>\n",
       "      <th>antecedents</th>\n",
       "      <th>consequents</th>\n",
       "      <th>antecedent support</th>\n",
       "      <th>consequent support</th>\n",
       "      <th>support</th>\n",
       "      <th>confidence</th>\n",
       "      <th>lift</th>\n",
       "      <th>leverage</th>\n",
       "      <th>conviction</th>\n",
       "      <th>zhangs_metric</th>\n",
       "    </tr>\n",
       "  </thead>\n",
       "  <tbody>\n",
       "    <tr>\n",
       "      <th>0</th>\n",
       "      <td>(EDUCACAO CONTINUADA)</td>\n",
       "      <td>(ENSINO FUNDAMENTAL INTERNACIONAL)</td>\n",
       "      <td>0.324089</td>\n",
       "      <td>0.816165</td>\n",
       "      <td>0.215531</td>\n",
       "      <td>0.665037</td>\n",
       "      <td>0.814831</td>\n",
       "      <td>-0.048979</td>\n",
       "      <td>0.548822</td>\n",
       "      <td>-0.251614</td>\n",
       "    </tr>\n",
       "    <tr>\n",
       "      <th>1</th>\n",
       "      <td>(EDUCACAO INFANTIL)</td>\n",
       "      <td>(EDUCACAO CONTINUADA)</td>\n",
       "      <td>0.178288</td>\n",
       "      <td>0.324089</td>\n",
       "      <td>0.081616</td>\n",
       "      <td>0.457778</td>\n",
       "      <td>1.412507</td>\n",
       "      <td>0.023835</td>\n",
       "      <td>1.246558</td>\n",
       "      <td>0.355403</td>\n",
       "    </tr>\n",
       "    <tr>\n",
       "      <th>2</th>\n",
       "      <td>(EDUCACAO INFANTIL)</td>\n",
       "      <td>(ENSINO FUNDAMENTAL INTERNACIONAL)</td>\n",
       "      <td>0.178288</td>\n",
       "      <td>0.816165</td>\n",
       "      <td>0.066561</td>\n",
       "      <td>0.373333</td>\n",
       "      <td>0.457424</td>\n",
       "      <td>-0.078952</td>\n",
       "      <td>0.293354</td>\n",
       "      <td>-0.590754</td>\n",
       "    </tr>\n",
       "    <tr>\n",
       "      <th>3</th>\n",
       "      <td>(EDUCACAO INFANTIL, ENSINO FUNDAMENTAL INTERNA...</td>\n",
       "      <td>(EDUCACAO CONTINUADA)</td>\n",
       "      <td>0.066561</td>\n",
       "      <td>0.324089</td>\n",
       "      <td>0.032488</td>\n",
       "      <td>0.488095</td>\n",
       "      <td>1.506054</td>\n",
       "      <td>0.010916</td>\n",
       "      <td>1.320385</td>\n",
       "      <td>0.359973</td>\n",
       "    </tr>\n",
       "    <tr>\n",
       "      <th>4</th>\n",
       "      <td>(EDUCACAO INFANTIL, EDUCACAO CONTINUADA)</td>\n",
       "      <td>(ENSINO FUNDAMENTAL INTERNACIONAL)</td>\n",
       "      <td>0.081616</td>\n",
       "      <td>0.816165</td>\n",
       "      <td>0.032488</td>\n",
       "      <td>0.398058</td>\n",
       "      <td>0.487718</td>\n",
       "      <td>-0.034124</td>\n",
       "      <td>0.305404</td>\n",
       "      <td>-0.533519</td>\n",
       "    </tr>\n",
       "  </tbody>\n",
       "</table>\n",
       "</div>"
      ],
      "text/plain": [
       "                                         antecedents  \\\n",
       "0                              (EDUCACAO CONTINUADA)   \n",
       "1                                (EDUCACAO INFANTIL)   \n",
       "2                                (EDUCACAO INFANTIL)   \n",
       "3  (EDUCACAO INFANTIL, ENSINO FUNDAMENTAL INTERNA...   \n",
       "4           (EDUCACAO INFANTIL, EDUCACAO CONTINUADA)   \n",
       "\n",
       "                          consequents  antecedent support  consequent support  \\\n",
       "0  (ENSINO FUNDAMENTAL INTERNACIONAL)            0.324089            0.816165   \n",
       "1               (EDUCACAO CONTINUADA)            0.178288            0.324089   \n",
       "2  (ENSINO FUNDAMENTAL INTERNACIONAL)            0.178288            0.816165   \n",
       "3               (EDUCACAO CONTINUADA)            0.066561            0.324089   \n",
       "4  (ENSINO FUNDAMENTAL INTERNACIONAL)            0.081616            0.816165   \n",
       "\n",
       "    support  confidence      lift  leverage  conviction  zhangs_metric  \n",
       "0  0.215531    0.665037  0.814831 -0.048979    0.548822      -0.251614  \n",
       "1  0.081616    0.457778  1.412507  0.023835    1.246558       0.355403  \n",
       "2  0.066561    0.373333  0.457424 -0.078952    0.293354      -0.590754  \n",
       "3  0.032488    0.488095  1.506054  0.010916    1.320385       0.359973  \n",
       "4  0.032488    0.398058  0.487718 -0.034124    0.305404      -0.533519  "
      ]
     },
     "execution_count": 27,
     "metadata": {},
     "output_type": "execute_result"
    }
   ],
   "source": [
    "# Aplicar o algoritimo apriori usando a função processar_regras_associacao_pf\n",
    "regras_pf = processar_regras_associacao_pf(filtered_df_pf, 0.01, 0.3)\n",
    "regras_pf.head()"
   ]
  },
  {
   "cell_type": "code",
   "execution_count": 28,
   "metadata": {},
   "outputs": [
    {
     "name": "stdout",
     "output_type": "stream",
     "text": [
      "Produtos associados com o perfil de cliente: \n",
      " - 0 a 12 anos\n",
      " - PR\n",
      " - CURITIBA\n",
      "\n",
      "Produtos consequentes de EDUCACAO CONTINUADA:\n",
      "ENSINO FUNDAMENTAL INTERNACIONAL\n",
      "\n",
      "Produtos consequentes de EDUCACAO INFANTIL:\n",
      "EDUCACAO CONTINUADA\n",
      "ENSINO FUNDAMENTAL INTERNACIONAL\n",
      "\n",
      "Produtos consequentes de ENSINO FUNDAMENTAL INTERNACIONAL:\n",
      "EDUCACAO CONTINUADA\n",
      "\n",
      "Produtos consequentes de INICIACAO PROFISSIONAL / TECNOLOGIA DA INFORMAÇÃO - SOFTWARE:\n",
      "ENSINO FUNDAMENTAL INTERNACIONAL\n"
     ]
    }
   ],
   "source": [
    "\n",
    "antecedents = regras_pf['antecedents'].explode().unique()\n",
    "\n",
    "num_columns = 2\n",
    "\n",
    "# Dividindo a lista de antecedentes em grupos com base no número de colunas\n",
    "chunks = [antecedents[i:i+num_columns] for i in range(0, len(antecedents), num_columns)]\n",
    "\n",
    "print(f'Produtos associados com o perfil de cliente: \\n - {faixa_etaria}\\n - {selected_estado}\\n - {selected_cidade}')\n",
    "# Iterando sobre cada grupo de antecedentes e exibindo-os\n",
    "for chunk in chunks:\n",
    "    for antecedent in chunk:\n",
    "        consequents = filter_consequents(regras_pf, antecedent)\n",
    "        print(f\"\\nProdutos consequentes de {antecedent}:\")\n",
    "        for consequent in consequents:\n",
    "            print(consequent)"
   ]
  },
  {
   "cell_type": "code",
   "execution_count": 29,
   "metadata": {},
   "outputs": [
    {
     "name": "stderr",
     "output_type": "stream",
     "text": [
      "/home/hub-ia/anaconda3/envs/senai-sprint2/lib/python3.12/site-packages/plotly/io/_renderers.py:395: DeprecationWarning:\n",
      "\n",
      "distutils Version classes are deprecated. Use packaging.version instead.\n",
      "\n",
      "/home/hub-ia/anaconda3/envs/senai-sprint2/lib/python3.12/site-packages/plotly/io/_renderers.py:395: DeprecationWarning:\n",
      "\n",
      "distutils Version classes are deprecated. Use packaging.version instead.\n",
      "\n"
     ]
    },
    {
     "data": {
      "application/vnd.plotly.v1+json": {
       "config": {
        "plotlyServerURL": "https://plot.ly"
       },
       "data": [
        {
         "marker": {
          "color": "royalblue"
         },
         "name": "ENSINO FUNDAMENTAL INTERNACIONAL",
         "orientation": "h",
         "type": "bar",
         "x": [
          1,
          2,
          1
         ],
         "y": [
          "EDUCACAO CONTINUADA",
          "EDUCACAO INFANTIL",
          "INICIACAO PROFISSIONAL / TECNOLOGIA DA INFORMAÇÃO - SOFTWARE"
         ]
        },
        {
         "marker": {
          "color": "lightblue"
         },
         "name": "EDUCACAO CONTINUADA",
         "orientation": "h",
         "type": "bar",
         "x": [
          0,
          2,
          0
         ],
         "y": [
          "EDUCACAO CONTINUADA",
          "EDUCACAO INFANTIL",
          "INICIACAO PROFISSIONAL / TECNOLOGIA DA INFORMAÇÃO - SOFTWARE"
         ]
        }
       ],
       "layout": {
        "barmode": "stack",
        "template": {
         "data": {
          "bar": [
           {
            "error_x": {
             "color": "#2a3f5f"
            },
            "error_y": {
             "color": "#2a3f5f"
            },
            "marker": {
             "line": {
              "color": "#E5ECF6",
              "width": 0.5
             },
             "pattern": {
              "fillmode": "overlay",
              "size": 10,
              "solidity": 0.2
             }
            },
            "type": "bar"
           }
          ],
          "barpolar": [
           {
            "marker": {
             "line": {
              "color": "#E5ECF6",
              "width": 0.5
             },
             "pattern": {
              "fillmode": "overlay",
              "size": 10,
              "solidity": 0.2
             }
            },
            "type": "barpolar"
           }
          ],
          "carpet": [
           {
            "aaxis": {
             "endlinecolor": "#2a3f5f",
             "gridcolor": "white",
             "linecolor": "white",
             "minorgridcolor": "white",
             "startlinecolor": "#2a3f5f"
            },
            "baxis": {
             "endlinecolor": "#2a3f5f",
             "gridcolor": "white",
             "linecolor": "white",
             "minorgridcolor": "white",
             "startlinecolor": "#2a3f5f"
            },
            "type": "carpet"
           }
          ],
          "choropleth": [
           {
            "colorbar": {
             "outlinewidth": 0,
             "ticks": ""
            },
            "type": "choropleth"
           }
          ],
          "contour": [
           {
            "colorbar": {
             "outlinewidth": 0,
             "ticks": ""
            },
            "colorscale": [
             [
              0,
              "#0d0887"
             ],
             [
              0.1111111111111111,
              "#46039f"
             ],
             [
              0.2222222222222222,
              "#7201a8"
             ],
             [
              0.3333333333333333,
              "#9c179e"
             ],
             [
              0.4444444444444444,
              "#bd3786"
             ],
             [
              0.5555555555555556,
              "#d8576b"
             ],
             [
              0.6666666666666666,
              "#ed7953"
             ],
             [
              0.7777777777777778,
              "#fb9f3a"
             ],
             [
              0.8888888888888888,
              "#fdca26"
             ],
             [
              1,
              "#f0f921"
             ]
            ],
            "type": "contour"
           }
          ],
          "contourcarpet": [
           {
            "colorbar": {
             "outlinewidth": 0,
             "ticks": ""
            },
            "type": "contourcarpet"
           }
          ],
          "heatmap": [
           {
            "colorbar": {
             "outlinewidth": 0,
             "ticks": ""
            },
            "colorscale": [
             [
              0,
              "#0d0887"
             ],
             [
              0.1111111111111111,
              "#46039f"
             ],
             [
              0.2222222222222222,
              "#7201a8"
             ],
             [
              0.3333333333333333,
              "#9c179e"
             ],
             [
              0.4444444444444444,
              "#bd3786"
             ],
             [
              0.5555555555555556,
              "#d8576b"
             ],
             [
              0.6666666666666666,
              "#ed7953"
             ],
             [
              0.7777777777777778,
              "#fb9f3a"
             ],
             [
              0.8888888888888888,
              "#fdca26"
             ],
             [
              1,
              "#f0f921"
             ]
            ],
            "type": "heatmap"
           }
          ],
          "heatmapgl": [
           {
            "colorbar": {
             "outlinewidth": 0,
             "ticks": ""
            },
            "colorscale": [
             [
              0,
              "#0d0887"
             ],
             [
              0.1111111111111111,
              "#46039f"
             ],
             [
              0.2222222222222222,
              "#7201a8"
             ],
             [
              0.3333333333333333,
              "#9c179e"
             ],
             [
              0.4444444444444444,
              "#bd3786"
             ],
             [
              0.5555555555555556,
              "#d8576b"
             ],
             [
              0.6666666666666666,
              "#ed7953"
             ],
             [
              0.7777777777777778,
              "#fb9f3a"
             ],
             [
              0.8888888888888888,
              "#fdca26"
             ],
             [
              1,
              "#f0f921"
             ]
            ],
            "type": "heatmapgl"
           }
          ],
          "histogram": [
           {
            "marker": {
             "pattern": {
              "fillmode": "overlay",
              "size": 10,
              "solidity": 0.2
             }
            },
            "type": "histogram"
           }
          ],
          "histogram2d": [
           {
            "colorbar": {
             "outlinewidth": 0,
             "ticks": ""
            },
            "colorscale": [
             [
              0,
              "#0d0887"
             ],
             [
              0.1111111111111111,
              "#46039f"
             ],
             [
              0.2222222222222222,
              "#7201a8"
             ],
             [
              0.3333333333333333,
              "#9c179e"
             ],
             [
              0.4444444444444444,
              "#bd3786"
             ],
             [
              0.5555555555555556,
              "#d8576b"
             ],
             [
              0.6666666666666666,
              "#ed7953"
             ],
             [
              0.7777777777777778,
              "#fb9f3a"
             ],
             [
              0.8888888888888888,
              "#fdca26"
             ],
             [
              1,
              "#f0f921"
             ]
            ],
            "type": "histogram2d"
           }
          ],
          "histogram2dcontour": [
           {
            "colorbar": {
             "outlinewidth": 0,
             "ticks": ""
            },
            "colorscale": [
             [
              0,
              "#0d0887"
             ],
             [
              0.1111111111111111,
              "#46039f"
             ],
             [
              0.2222222222222222,
              "#7201a8"
             ],
             [
              0.3333333333333333,
              "#9c179e"
             ],
             [
              0.4444444444444444,
              "#bd3786"
             ],
             [
              0.5555555555555556,
              "#d8576b"
             ],
             [
              0.6666666666666666,
              "#ed7953"
             ],
             [
              0.7777777777777778,
              "#fb9f3a"
             ],
             [
              0.8888888888888888,
              "#fdca26"
             ],
             [
              1,
              "#f0f921"
             ]
            ],
            "type": "histogram2dcontour"
           }
          ],
          "mesh3d": [
           {
            "colorbar": {
             "outlinewidth": 0,
             "ticks": ""
            },
            "type": "mesh3d"
           }
          ],
          "parcoords": [
           {
            "line": {
             "colorbar": {
              "outlinewidth": 0,
              "ticks": ""
             }
            },
            "type": "parcoords"
           }
          ],
          "pie": [
           {
            "automargin": true,
            "type": "pie"
           }
          ],
          "scatter": [
           {
            "fillpattern": {
             "fillmode": "overlay",
             "size": 10,
             "solidity": 0.2
            },
            "type": "scatter"
           }
          ],
          "scatter3d": [
           {
            "line": {
             "colorbar": {
              "outlinewidth": 0,
              "ticks": ""
             }
            },
            "marker": {
             "colorbar": {
              "outlinewidth": 0,
              "ticks": ""
             }
            },
            "type": "scatter3d"
           }
          ],
          "scattercarpet": [
           {
            "marker": {
             "colorbar": {
              "outlinewidth": 0,
              "ticks": ""
             }
            },
            "type": "scattercarpet"
           }
          ],
          "scattergeo": [
           {
            "marker": {
             "colorbar": {
              "outlinewidth": 0,
              "ticks": ""
             }
            },
            "type": "scattergeo"
           }
          ],
          "scattergl": [
           {
            "marker": {
             "colorbar": {
              "outlinewidth": 0,
              "ticks": ""
             }
            },
            "type": "scattergl"
           }
          ],
          "scattermapbox": [
           {
            "marker": {
             "colorbar": {
              "outlinewidth": 0,
              "ticks": ""
             }
            },
            "type": "scattermapbox"
           }
          ],
          "scatterpolar": [
           {
            "marker": {
             "colorbar": {
              "outlinewidth": 0,
              "ticks": ""
             }
            },
            "type": "scatterpolar"
           }
          ],
          "scatterpolargl": [
           {
            "marker": {
             "colorbar": {
              "outlinewidth": 0,
              "ticks": ""
             }
            },
            "type": "scatterpolargl"
           }
          ],
          "scatterternary": [
           {
            "marker": {
             "colorbar": {
              "outlinewidth": 0,
              "ticks": ""
             }
            },
            "type": "scatterternary"
           }
          ],
          "surface": [
           {
            "colorbar": {
             "outlinewidth": 0,
             "ticks": ""
            },
            "colorscale": [
             [
              0,
              "#0d0887"
             ],
             [
              0.1111111111111111,
              "#46039f"
             ],
             [
              0.2222222222222222,
              "#7201a8"
             ],
             [
              0.3333333333333333,
              "#9c179e"
             ],
             [
              0.4444444444444444,
              "#bd3786"
             ],
             [
              0.5555555555555556,
              "#d8576b"
             ],
             [
              0.6666666666666666,
              "#ed7953"
             ],
             [
              0.7777777777777778,
              "#fb9f3a"
             ],
             [
              0.8888888888888888,
              "#fdca26"
             ],
             [
              1,
              "#f0f921"
             ]
            ],
            "type": "surface"
           }
          ],
          "table": [
           {
            "cells": {
             "fill": {
              "color": "#EBF0F8"
             },
             "line": {
              "color": "white"
             }
            },
            "header": {
             "fill": {
              "color": "#C8D4E3"
             },
             "line": {
              "color": "white"
             }
            },
            "type": "table"
           }
          ]
         },
         "layout": {
          "annotationdefaults": {
           "arrowcolor": "#2a3f5f",
           "arrowhead": 0,
           "arrowwidth": 1
          },
          "autotypenumbers": "strict",
          "coloraxis": {
           "colorbar": {
            "outlinewidth": 0,
            "ticks": ""
           }
          },
          "colorscale": {
           "diverging": [
            [
             0,
             "#8e0152"
            ],
            [
             0.1,
             "#c51b7d"
            ],
            [
             0.2,
             "#de77ae"
            ],
            [
             0.3,
             "#f1b6da"
            ],
            [
             0.4,
             "#fde0ef"
            ],
            [
             0.5,
             "#f7f7f7"
            ],
            [
             0.6,
             "#e6f5d0"
            ],
            [
             0.7,
             "#b8e186"
            ],
            [
             0.8,
             "#7fbc41"
            ],
            [
             0.9,
             "#4d9221"
            ],
            [
             1,
             "#276419"
            ]
           ],
           "sequential": [
            [
             0,
             "#0d0887"
            ],
            [
             0.1111111111111111,
             "#46039f"
            ],
            [
             0.2222222222222222,
             "#7201a8"
            ],
            [
             0.3333333333333333,
             "#9c179e"
            ],
            [
             0.4444444444444444,
             "#bd3786"
            ],
            [
             0.5555555555555556,
             "#d8576b"
            ],
            [
             0.6666666666666666,
             "#ed7953"
            ],
            [
             0.7777777777777778,
             "#fb9f3a"
            ],
            [
             0.8888888888888888,
             "#fdca26"
            ],
            [
             1,
             "#f0f921"
            ]
           ],
           "sequentialminus": [
            [
             0,
             "#0d0887"
            ],
            [
             0.1111111111111111,
             "#46039f"
            ],
            [
             0.2222222222222222,
             "#7201a8"
            ],
            [
             0.3333333333333333,
             "#9c179e"
            ],
            [
             0.4444444444444444,
             "#bd3786"
            ],
            [
             0.5555555555555556,
             "#d8576b"
            ],
            [
             0.6666666666666666,
             "#ed7953"
            ],
            [
             0.7777777777777778,
             "#fb9f3a"
            ],
            [
             0.8888888888888888,
             "#fdca26"
            ],
            [
             1,
             "#f0f921"
            ]
           ]
          },
          "colorway": [
           "#636efa",
           "#EF553B",
           "#00cc96",
           "#ab63fa",
           "#FFA15A",
           "#19d3f3",
           "#FF6692",
           "#B6E880",
           "#FF97FF",
           "#FECB52"
          ],
          "font": {
           "color": "#2a3f5f"
          },
          "geo": {
           "bgcolor": "white",
           "lakecolor": "white",
           "landcolor": "#E5ECF6",
           "showlakes": true,
           "showland": true,
           "subunitcolor": "white"
          },
          "hoverlabel": {
           "align": "left"
          },
          "hovermode": "closest",
          "mapbox": {
           "style": "light"
          },
          "paper_bgcolor": "white",
          "plot_bgcolor": "#E5ECF6",
          "polar": {
           "angularaxis": {
            "gridcolor": "white",
            "linecolor": "white",
            "ticks": ""
           },
           "bgcolor": "#E5ECF6",
           "radialaxis": {
            "gridcolor": "white",
            "linecolor": "white",
            "ticks": ""
           }
          },
          "scene": {
           "xaxis": {
            "backgroundcolor": "#E5ECF6",
            "gridcolor": "white",
            "gridwidth": 2,
            "linecolor": "white",
            "showbackground": true,
            "ticks": "",
            "zerolinecolor": "white"
           },
           "yaxis": {
            "backgroundcolor": "#E5ECF6",
            "gridcolor": "white",
            "gridwidth": 2,
            "linecolor": "white",
            "showbackground": true,
            "ticks": "",
            "zerolinecolor": "white"
           },
           "zaxis": {
            "backgroundcolor": "#E5ECF6",
            "gridcolor": "white",
            "gridwidth": 2,
            "linecolor": "white",
            "showbackground": true,
            "ticks": "",
            "zerolinecolor": "white"
           }
          },
          "shapedefaults": {
           "line": {
            "color": "#2a3f5f"
           }
          },
          "ternary": {
           "aaxis": {
            "gridcolor": "white",
            "linecolor": "white",
            "ticks": ""
           },
           "baxis": {
            "gridcolor": "white",
            "linecolor": "white",
            "ticks": ""
           },
           "bgcolor": "#E5ECF6",
           "caxis": {
            "gridcolor": "white",
            "linecolor": "white",
            "ticks": ""
           }
          },
          "title": {
           "x": 0.05
          },
          "xaxis": {
           "automargin": true,
           "gridcolor": "white",
           "linecolor": "white",
           "ticks": "",
           "title": {
            "standoff": 15
           },
           "zerolinecolor": "white",
           "zerolinewidth": 2
          },
          "yaxis": {
           "automargin": true,
           "gridcolor": "white",
           "linecolor": "white",
           "ticks": "",
           "title": {
            "standoff": 15
           },
           "zerolinecolor": "white",
           "zerolinewidth": 2
          }
         }
        },
        "title": {
         "text": "Gráfico de barras empilhadas relacionando produtos antecedentes com consequentes"
        },
        "xaxis": {
         "title": {
          "text": "Ocorrências"
         }
        },
        "yaxis": {
         "title": {
          "text": "Antecedents"
         }
        }
       }
      }
     },
     "metadata": {},
     "output_type": "display_data"
    }
   ],
   "source": [
    "# Construção do DataFrame para o Treemap\n",
    "data = {'antecedents': [], 'consequents': [], 'confidence': []}\n",
    "for index, row in regras_pf.iterrows():\n",
    "    antecedente = list(row['antecedents'])[0]  # Convertendo frozenset para lista\n",
    "    consequentes = list(row['consequents'])    # Convertendo frozenset para lista\n",
    "    confidence = row['confidence']      # Multiplicando por 100 para obter a porcentagem\n",
    "    for consequent in consequentes:\n",
    "        data['antecedents'].append(antecedente)\n",
    "        data['consequents'].append(consequent)\n",
    "        data['confidence'].append(confidence)\n",
    "\n",
    "# Criando o DataFrame\n",
    "df = pd.DataFrame(data)\n",
    "\n",
    "# Criando uma nova coluna contendo a contagem de ocorrências\n",
    "df['count'] = 1\n",
    "\n",
    "# Agrupando os dados para criar as barras empilhadas e ordenando a contagem de antecedentes em ordem decrescente\n",
    "grouped_df = df.groupby(['antecedents', 'consequents']).size().unstack(fill_value=0)\n",
    "grouped_df = grouped_df[grouped_df.sum().sort_values(ascending=False).index]\n",
    "\n",
    "# Criando o gráfico de barras empilhadas\n",
    "fig = go.Figure()\n",
    "\n",
    "# Define a paleta de cores em tons de azul\n",
    "colors = ['royalblue', 'lightblue', 'skyblue', 'deepskyblue', 'dodgerblue', 'cornflowerblue', 'steelblue']\n",
    "\n",
    "for i, consequent in enumerate(grouped_df.columns):\n",
    "    fig.add_trace(go.Bar(\n",
    "        y=grouped_df.index,\n",
    "        x=grouped_df[consequent],\n",
    "        name=consequent,\n",
    "        orientation='h',\n",
    "        marker=dict(color=colors[i % len(colors)])\n",
    "    ))\n",
    "\n",
    "# Atualizando o layout do gráfico\n",
    "fig.update_layout(\n",
    "    barmode='stack',\n",
    "    yaxis_title='Antecedents',\n",
    "    xaxis_title='Ocorrências',\n",
    "    title='Gráfico de barras empilhadas relacionando produtos antecedentes com consequentes'\n",
    ")\n",
    "#fig.update_layout(height=800, width=1400)\n",
    "\n",
    "# Exibindo o gráfico\n",
    "fig.show()"
   ]
  },
  {
   "cell_type": "code",
   "execution_count": 30,
   "metadata": {},
   "outputs": [
    {
     "name": "stdout",
     "output_type": "stream",
     "text": [
      "Produtos comprados e recomendados do cliente 1994\n",
      "\n",
      "Produtos comprados:\n",
      "EDUCACAO CONTINUADA\n",
      "ENSINO FUNDAMENTAL INTERNACIONAL\n",
      "\n",
      "Produtos recomendados:\n",
      "EDUCACAO INFANTIL\n",
      "INICIACAO PROFISSIONAL / TECNOLOGIA DA INFORMAÇÃO - SOFTWARE\n"
     ]
    }
   ],
   "source": [
    "# Recomendação de produtos por cliente\n",
    "produto_counts = filtered_df_pf.groupby(['ID Cliente', 'Produto GPOM e Área de Atuação']).size()\n",
    "\n",
    "grupo_clientes = df_pf.groupby(['ID Cliente', 'Data de Nascimento']).size()\n",
    "\n",
    "# Filtrar para obter apenas clientes com produtos que aparecem mais de uma vez\n",
    "clientes_com_produtos_repetidos = produto_counts[produto_counts > 2].reset_index()['ID Cliente'].unique()\n",
    "\n",
    "# Mudar o valor entre [] para mudar o cliente\n",
    "select_cliente = clientes_com_produtos_repetidos[0]\n",
    "\n",
    "produtos = filtered_df_pf[filtered_df_pf['ID Cliente'] == select_cliente]['Produto GPOM e Área de Atuação'].unique()\n",
    "associated_products = find_associated_products(produtos, regras_pf)\n",
    "\n",
    "print(f'Produtos comprados e recomendados do cliente {select_cliente}\\n')\n",
    "print('Produtos comprados:')\n",
    "for produto in produtos:\n",
    "    print(produto)\n",
    "\n",
    "print('\\nProdutos recomendados:')\n",
    "for recomendado in associated_products:\n",
    "    print(recomendado)\n",
    "    "
   ]
  },
  {
   "cell_type": "markdown",
   "metadata": {},
   "source": [
    "### 2.1 Pessoa Jurídica"
   ]
  },
  {
   "cell_type": "code",
   "execution_count": 35,
   "metadata": {},
   "outputs": [],
   "source": [
    "selected_setor_ibge = '01. INDÚSTRIA'\n",
    "filtered_df_pj_ibge = df_pj[df_pj['Setor IBGE'] == selected_setor_ibge]\n",
    "\n",
    "selected_porte = 'GRANDE'\n",
    "filtered_df_pj_porte = filtered_df_pj_ibge[filtered_df_pj_ibge['Porte'] == selected_porte]\n",
    "\n",
    "selected_estado_pj = 'PR'\n",
    "filtered_df_pj_estado = filtered_df_pj_porte[filtered_df_pj_porte['Estado'] == selected_estado_pj]\n",
    "\n",
    "selected_cidade_pj = 'CURITIBA'\n",
    "filtered_df_pj_cidade = filtered_df_pj_estado[filtered_df_pj_estado['Cidade'] == selected_cidade_pj]\n",
    "\n",
    "if (selected_porte == 'GRANDE'):\n",
    "   filtered_df_pj = filtered_df_pj_cidade\n",
    "else:    \n",
    "    cnae_options = filtered_df_pj_cidade['Código CNAE'].value_counts().index.to_list()\n",
    "    selected_cnae = cnae_options[0]\n",
    "    filtered_df_pj = filtered_df_pj_cidade[filtered_df_pj_cidade['Código CNAE'] == selected_cnae]"
   ]
  },
  {
   "cell_type": "code",
   "execution_count": 39,
   "metadata": {},
   "outputs": [
    {
     "data": {
      "text/html": [
       "<div>\n",
       "<style scoped>\n",
       "    .dataframe tbody tr th:only-of-type {\n",
       "        vertical-align: middle;\n",
       "    }\n",
       "\n",
       "    .dataframe tbody tr th {\n",
       "        vertical-align: top;\n",
       "    }\n",
       "\n",
       "    .dataframe thead th {\n",
       "        text-align: right;\n",
       "    }\n",
       "</style>\n",
       "<table border=\"1\" class=\"dataframe\">\n",
       "  <thead>\n",
       "    <tr style=\"text-align: right;\">\n",
       "      <th></th>\n",
       "      <th>antecedents</th>\n",
       "      <th>consequents</th>\n",
       "      <th>antecedent support</th>\n",
       "      <th>consequent support</th>\n",
       "      <th>support</th>\n",
       "      <th>confidence</th>\n",
       "      <th>lift</th>\n",
       "      <th>leverage</th>\n",
       "      <th>conviction</th>\n",
       "      <th>zhangs_metric</th>\n",
       "    </tr>\n",
       "  </thead>\n",
       "  <tbody>\n",
       "    <tr>\n",
       "      <th>0</th>\n",
       "      <td>(AUXILIO DIAGNOSTICO)</td>\n",
       "      <td>(CONSULTA CLINICA OCUPACIONAL)</td>\n",
       "      <td>0.363636</td>\n",
       "      <td>0.318182</td>\n",
       "      <td>0.318182</td>\n",
       "      <td>0.875000</td>\n",
       "      <td>2.750000</td>\n",
       "      <td>0.202479</td>\n",
       "      <td>5.454545</td>\n",
       "      <td>1.000000</td>\n",
       "    </tr>\n",
       "    <tr>\n",
       "      <th>1</th>\n",
       "      <td>(CONSULTA CLINICA OCUPACIONAL)</td>\n",
       "      <td>(AUXILIO DIAGNOSTICO)</td>\n",
       "      <td>0.318182</td>\n",
       "      <td>0.363636</td>\n",
       "      <td>0.318182</td>\n",
       "      <td>1.000000</td>\n",
       "      <td>2.750000</td>\n",
       "      <td>0.202479</td>\n",
       "      <td>inf</td>\n",
       "      <td>0.933333</td>\n",
       "    </tr>\n",
       "    <tr>\n",
       "      <th>2</th>\n",
       "      <td>(AUXILIO DIAGNOSTICO)</td>\n",
       "      <td>(CONSULTAS POR ESPECIALIDADES)</td>\n",
       "      <td>0.363636</td>\n",
       "      <td>0.272727</td>\n",
       "      <td>0.272727</td>\n",
       "      <td>0.750000</td>\n",
       "      <td>2.750000</td>\n",
       "      <td>0.173554</td>\n",
       "      <td>2.909091</td>\n",
       "      <td>1.000000</td>\n",
       "    </tr>\n",
       "    <tr>\n",
       "      <th>3</th>\n",
       "      <td>(CONSULTAS POR ESPECIALIDADES)</td>\n",
       "      <td>(AUXILIO DIAGNOSTICO)</td>\n",
       "      <td>0.272727</td>\n",
       "      <td>0.363636</td>\n",
       "      <td>0.272727</td>\n",
       "      <td>1.000000</td>\n",
       "      <td>2.750000</td>\n",
       "      <td>0.173554</td>\n",
       "      <td>inf</td>\n",
       "      <td>0.875000</td>\n",
       "    </tr>\n",
       "    <tr>\n",
       "      <th>4</th>\n",
       "      <td>(APERFEICOAMENTO PROFISSIONAL)</td>\n",
       "      <td>(APERFEICOAMENTO PROFISSIONAL / SEGURANÇA DO T...</td>\n",
       "      <td>0.363636</td>\n",
       "      <td>0.500000</td>\n",
       "      <td>0.272727</td>\n",
       "      <td>0.750000</td>\n",
       "      <td>1.500000</td>\n",
       "      <td>0.090909</td>\n",
       "      <td>2.000000</td>\n",
       "      <td>0.523810</td>\n",
       "    </tr>\n",
       "    <tr>\n",
       "      <th>5</th>\n",
       "      <td>(APERFEICOAMENTO PROFISSIONAL / SEGURANÇA DO T...</td>\n",
       "      <td>(APERFEICOAMENTO PROFISSIONAL)</td>\n",
       "      <td>0.500000</td>\n",
       "      <td>0.363636</td>\n",
       "      <td>0.272727</td>\n",
       "      <td>0.545455</td>\n",
       "      <td>1.500000</td>\n",
       "      <td>0.090909</td>\n",
       "      <td>1.400000</td>\n",
       "      <td>0.666667</td>\n",
       "    </tr>\n",
       "    <tr>\n",
       "      <th>6</th>\n",
       "      <td>(AUXILIO DIAGNOSTICO, CONSULTA CLINICA OCUPACI...</td>\n",
       "      <td>(CONSULTAS POR ESPECIALIDADES)</td>\n",
       "      <td>0.318182</td>\n",
       "      <td>0.272727</td>\n",
       "      <td>0.272727</td>\n",
       "      <td>0.857143</td>\n",
       "      <td>3.142857</td>\n",
       "      <td>0.185950</td>\n",
       "      <td>5.090909</td>\n",
       "      <td>1.000000</td>\n",
       "    </tr>\n",
       "    <tr>\n",
       "      <th>7</th>\n",
       "      <td>(AUXILIO DIAGNOSTICO, CONSULTAS POR ESPECIALID...</td>\n",
       "      <td>(CONSULTA CLINICA OCUPACIONAL)</td>\n",
       "      <td>0.272727</td>\n",
       "      <td>0.318182</td>\n",
       "      <td>0.272727</td>\n",
       "      <td>1.000000</td>\n",
       "      <td>3.142857</td>\n",
       "      <td>0.185950</td>\n",
       "      <td>inf</td>\n",
       "      <td>0.937500</td>\n",
       "    </tr>\n",
       "    <tr>\n",
       "      <th>8</th>\n",
       "      <td>(CONSULTA CLINICA OCUPACIONAL, CONSULTAS POR E...</td>\n",
       "      <td>(AUXILIO DIAGNOSTICO)</td>\n",
       "      <td>0.272727</td>\n",
       "      <td>0.363636</td>\n",
       "      <td>0.272727</td>\n",
       "      <td>1.000000</td>\n",
       "      <td>2.750000</td>\n",
       "      <td>0.173554</td>\n",
       "      <td>inf</td>\n",
       "      <td>0.875000</td>\n",
       "    </tr>\n",
       "    <tr>\n",
       "      <th>9</th>\n",
       "      <td>(AUXILIO DIAGNOSTICO)</td>\n",
       "      <td>(CONSULTA CLINICA OCUPACIONAL, CONSULTAS POR E...</td>\n",
       "      <td>0.363636</td>\n",
       "      <td>0.272727</td>\n",
       "      <td>0.272727</td>\n",
       "      <td>0.750000</td>\n",
       "      <td>2.750000</td>\n",
       "      <td>0.173554</td>\n",
       "      <td>2.909091</td>\n",
       "      <td>1.000000</td>\n",
       "    </tr>\n",
       "    <tr>\n",
       "      <th>10</th>\n",
       "      <td>(CONSULTA CLINICA OCUPACIONAL)</td>\n",
       "      <td>(AUXILIO DIAGNOSTICO, CONSULTAS POR ESPECIALID...</td>\n",
       "      <td>0.318182</td>\n",
       "      <td>0.272727</td>\n",
       "      <td>0.272727</td>\n",
       "      <td>0.857143</td>\n",
       "      <td>3.142857</td>\n",
       "      <td>0.185950</td>\n",
       "      <td>5.090909</td>\n",
       "      <td>1.000000</td>\n",
       "    </tr>\n",
       "    <tr>\n",
       "      <th>11</th>\n",
       "      <td>(CONSULTAS POR ESPECIALIDADES)</td>\n",
       "      <td>(AUXILIO DIAGNOSTICO, CONSULTA CLINICA OCUPACI...</td>\n",
       "      <td>0.272727</td>\n",
       "      <td>0.318182</td>\n",
       "      <td>0.272727</td>\n",
       "      <td>1.000000</td>\n",
       "      <td>3.142857</td>\n",
       "      <td>0.185950</td>\n",
       "      <td>inf</td>\n",
       "      <td>0.937500</td>\n",
       "    </tr>\n",
       "    <tr>\n",
       "      <th>12</th>\n",
       "      <td>(CONSULTA CLINICA OCUPACIONAL)</td>\n",
       "      <td>(CONSULTAS POR ESPECIALIDADES)</td>\n",
       "      <td>0.318182</td>\n",
       "      <td>0.272727</td>\n",
       "      <td>0.272727</td>\n",
       "      <td>0.857143</td>\n",
       "      <td>3.142857</td>\n",
       "      <td>0.185950</td>\n",
       "      <td>5.090909</td>\n",
       "      <td>1.000000</td>\n",
       "    </tr>\n",
       "    <tr>\n",
       "      <th>13</th>\n",
       "      <td>(CONSULTAS POR ESPECIALIDADES)</td>\n",
       "      <td>(CONSULTA CLINICA OCUPACIONAL)</td>\n",
       "      <td>0.272727</td>\n",
       "      <td>0.318182</td>\n",
       "      <td>0.272727</td>\n",
       "      <td>1.000000</td>\n",
       "      <td>3.142857</td>\n",
       "      <td>0.185950</td>\n",
       "      <td>inf</td>\n",
       "      <td>0.937500</td>\n",
       "    </tr>\n",
       "    <tr>\n",
       "      <th>14</th>\n",
       "      <td>(AUXILIO DIAGNOSTICO)</td>\n",
       "      <td>(APERFEICOAMENTO PROFISSIONAL)</td>\n",
       "      <td>0.363636</td>\n",
       "      <td>0.363636</td>\n",
       "      <td>0.227273</td>\n",
       "      <td>0.625000</td>\n",
       "      <td>1.718750</td>\n",
       "      <td>0.095041</td>\n",
       "      <td>1.696970</td>\n",
       "      <td>0.657143</td>\n",
       "    </tr>\n",
       "    <tr>\n",
       "      <th>15</th>\n",
       "      <td>(APERFEICOAMENTO PROFISSIONAL)</td>\n",
       "      <td>(AUXILIO DIAGNOSTICO)</td>\n",
       "      <td>0.363636</td>\n",
       "      <td>0.363636</td>\n",
       "      <td>0.227273</td>\n",
       "      <td>0.625000</td>\n",
       "      <td>1.718750</td>\n",
       "      <td>0.095041</td>\n",
       "      <td>1.696970</td>\n",
       "      <td>0.657143</td>\n",
       "    </tr>\n",
       "    <tr>\n",
       "      <th>16</th>\n",
       "      <td>(ACOES CULTURAIS DE DIFUSAO NO ESTADO)</td>\n",
       "      <td>(APERFEICOAMENTO PROFISSIONAL / SEGURANÇA DO T...</td>\n",
       "      <td>0.272727</td>\n",
       "      <td>0.500000</td>\n",
       "      <td>0.227273</td>\n",
       "      <td>0.833333</td>\n",
       "      <td>1.666667</td>\n",
       "      <td>0.090909</td>\n",
       "      <td>3.000000</td>\n",
       "      <td>0.550000</td>\n",
       "    </tr>\n",
       "    <tr>\n",
       "      <th>17</th>\n",
       "      <td>(METROLOGIA)</td>\n",
       "      <td>(APERFEICOAMENTO PROFISSIONAL / SEGURANÇA DO T...</td>\n",
       "      <td>0.363636</td>\n",
       "      <td>0.500000</td>\n",
       "      <td>0.227273</td>\n",
       "      <td>0.625000</td>\n",
       "      <td>1.250000</td>\n",
       "      <td>0.045455</td>\n",
       "      <td>1.333333</td>\n",
       "      <td>0.314286</td>\n",
       "    </tr>\n",
       "    <tr>\n",
       "      <th>18</th>\n",
       "      <td>(CAPACITACOES RELACIONADAS AS NRS)</td>\n",
       "      <td>(APERFEICOAMENTO PROFISSIONAL / SEGURANÇA DO T...</td>\n",
       "      <td>0.318182</td>\n",
       "      <td>0.500000</td>\n",
       "      <td>0.227273</td>\n",
       "      <td>0.714286</td>\n",
       "      <td>1.428571</td>\n",
       "      <td>0.068182</td>\n",
       "      <td>1.750000</td>\n",
       "      <td>0.440000</td>\n",
       "    </tr>\n",
       "    <tr>\n",
       "      <th>19</th>\n",
       "      <td>(CAPACITACOES RELACIONADAS AS NRS)</td>\n",
       "      <td>(APERFEICOAMENTO PROFISSIONAL)</td>\n",
       "      <td>0.318182</td>\n",
       "      <td>0.363636</td>\n",
       "      <td>0.227273</td>\n",
       "      <td>0.714286</td>\n",
       "      <td>1.964286</td>\n",
       "      <td>0.111570</td>\n",
       "      <td>2.227273</td>\n",
       "      <td>0.720000</td>\n",
       "    </tr>\n",
       "    <tr>\n",
       "      <th>20</th>\n",
       "      <td>(APERFEICOAMENTO PROFISSIONAL)</td>\n",
       "      <td>(CAPACITACOES RELACIONADAS AS NRS)</td>\n",
       "      <td>0.363636</td>\n",
       "      <td>0.318182</td>\n",
       "      <td>0.227273</td>\n",
       "      <td>0.625000</td>\n",
       "      <td>1.964286</td>\n",
       "      <td>0.111570</td>\n",
       "      <td>1.818182</td>\n",
       "      <td>0.771429</td>\n",
       "    </tr>\n",
       "    <tr>\n",
       "      <th>21</th>\n",
       "      <td>(AUXILIO DIAGNOSTICO)</td>\n",
       "      <td>(NAO SE APLICA)</td>\n",
       "      <td>0.363636</td>\n",
       "      <td>0.227273</td>\n",
       "      <td>0.227273</td>\n",
       "      <td>0.625000</td>\n",
       "      <td>2.750000</td>\n",
       "      <td>0.144628</td>\n",
       "      <td>2.060606</td>\n",
       "      <td>1.000000</td>\n",
       "    </tr>\n",
       "    <tr>\n",
       "      <th>22</th>\n",
       "      <td>(NAO SE APLICA)</td>\n",
       "      <td>(AUXILIO DIAGNOSTICO)</td>\n",
       "      <td>0.227273</td>\n",
       "      <td>0.363636</td>\n",
       "      <td>0.227273</td>\n",
       "      <td>1.000000</td>\n",
       "      <td>2.750000</td>\n",
       "      <td>0.144628</td>\n",
       "      <td>inf</td>\n",
       "      <td>0.823529</td>\n",
       "    </tr>\n",
       "  </tbody>\n",
       "</table>\n",
       "</div>"
      ],
      "text/plain": [
       "                                          antecedents  \\\n",
       "0                               (AUXILIO DIAGNOSTICO)   \n",
       "1                      (CONSULTA CLINICA OCUPACIONAL)   \n",
       "2                               (AUXILIO DIAGNOSTICO)   \n",
       "3                      (CONSULTAS POR ESPECIALIDADES)   \n",
       "4                      (APERFEICOAMENTO PROFISSIONAL)   \n",
       "5   (APERFEICOAMENTO PROFISSIONAL / SEGURANÇA DO T...   \n",
       "6   (AUXILIO DIAGNOSTICO, CONSULTA CLINICA OCUPACI...   \n",
       "7   (AUXILIO DIAGNOSTICO, CONSULTAS POR ESPECIALID...   \n",
       "8   (CONSULTA CLINICA OCUPACIONAL, CONSULTAS POR E...   \n",
       "9                               (AUXILIO DIAGNOSTICO)   \n",
       "10                     (CONSULTA CLINICA OCUPACIONAL)   \n",
       "11                     (CONSULTAS POR ESPECIALIDADES)   \n",
       "12                     (CONSULTA CLINICA OCUPACIONAL)   \n",
       "13                     (CONSULTAS POR ESPECIALIDADES)   \n",
       "14                              (AUXILIO DIAGNOSTICO)   \n",
       "15                     (APERFEICOAMENTO PROFISSIONAL)   \n",
       "16             (ACOES CULTURAIS DE DIFUSAO NO ESTADO)   \n",
       "17                                       (METROLOGIA)   \n",
       "18                 (CAPACITACOES RELACIONADAS AS NRS)   \n",
       "19                 (CAPACITACOES RELACIONADAS AS NRS)   \n",
       "20                     (APERFEICOAMENTO PROFISSIONAL)   \n",
       "21                              (AUXILIO DIAGNOSTICO)   \n",
       "22                                    (NAO SE APLICA)   \n",
       "\n",
       "                                          consequents  antecedent support  \\\n",
       "0                      (CONSULTA CLINICA OCUPACIONAL)            0.363636   \n",
       "1                               (AUXILIO DIAGNOSTICO)            0.318182   \n",
       "2                      (CONSULTAS POR ESPECIALIDADES)            0.363636   \n",
       "3                               (AUXILIO DIAGNOSTICO)            0.272727   \n",
       "4   (APERFEICOAMENTO PROFISSIONAL / SEGURANÇA DO T...            0.363636   \n",
       "5                      (APERFEICOAMENTO PROFISSIONAL)            0.500000   \n",
       "6                      (CONSULTAS POR ESPECIALIDADES)            0.318182   \n",
       "7                      (CONSULTA CLINICA OCUPACIONAL)            0.272727   \n",
       "8                               (AUXILIO DIAGNOSTICO)            0.272727   \n",
       "9   (CONSULTA CLINICA OCUPACIONAL, CONSULTAS POR E...            0.363636   \n",
       "10  (AUXILIO DIAGNOSTICO, CONSULTAS POR ESPECIALID...            0.318182   \n",
       "11  (AUXILIO DIAGNOSTICO, CONSULTA CLINICA OCUPACI...            0.272727   \n",
       "12                     (CONSULTAS POR ESPECIALIDADES)            0.318182   \n",
       "13                     (CONSULTA CLINICA OCUPACIONAL)            0.272727   \n",
       "14                     (APERFEICOAMENTO PROFISSIONAL)            0.363636   \n",
       "15                              (AUXILIO DIAGNOSTICO)            0.363636   \n",
       "16  (APERFEICOAMENTO PROFISSIONAL / SEGURANÇA DO T...            0.272727   \n",
       "17  (APERFEICOAMENTO PROFISSIONAL / SEGURANÇA DO T...            0.363636   \n",
       "18  (APERFEICOAMENTO PROFISSIONAL / SEGURANÇA DO T...            0.318182   \n",
       "19                     (APERFEICOAMENTO PROFISSIONAL)            0.318182   \n",
       "20                 (CAPACITACOES RELACIONADAS AS NRS)            0.363636   \n",
       "21                                    (NAO SE APLICA)            0.363636   \n",
       "22                              (AUXILIO DIAGNOSTICO)            0.227273   \n",
       "\n",
       "    consequent support   support  confidence      lift  leverage  conviction  \\\n",
       "0             0.318182  0.318182    0.875000  2.750000  0.202479    5.454545   \n",
       "1             0.363636  0.318182    1.000000  2.750000  0.202479         inf   \n",
       "2             0.272727  0.272727    0.750000  2.750000  0.173554    2.909091   \n",
       "3             0.363636  0.272727    1.000000  2.750000  0.173554         inf   \n",
       "4             0.500000  0.272727    0.750000  1.500000  0.090909    2.000000   \n",
       "5             0.363636  0.272727    0.545455  1.500000  0.090909    1.400000   \n",
       "6             0.272727  0.272727    0.857143  3.142857  0.185950    5.090909   \n",
       "7             0.318182  0.272727    1.000000  3.142857  0.185950         inf   \n",
       "8             0.363636  0.272727    1.000000  2.750000  0.173554         inf   \n",
       "9             0.272727  0.272727    0.750000  2.750000  0.173554    2.909091   \n",
       "10            0.272727  0.272727    0.857143  3.142857  0.185950    5.090909   \n",
       "11            0.318182  0.272727    1.000000  3.142857  0.185950         inf   \n",
       "12            0.272727  0.272727    0.857143  3.142857  0.185950    5.090909   \n",
       "13            0.318182  0.272727    1.000000  3.142857  0.185950         inf   \n",
       "14            0.363636  0.227273    0.625000  1.718750  0.095041    1.696970   \n",
       "15            0.363636  0.227273    0.625000  1.718750  0.095041    1.696970   \n",
       "16            0.500000  0.227273    0.833333  1.666667  0.090909    3.000000   \n",
       "17            0.500000  0.227273    0.625000  1.250000  0.045455    1.333333   \n",
       "18            0.500000  0.227273    0.714286  1.428571  0.068182    1.750000   \n",
       "19            0.363636  0.227273    0.714286  1.964286  0.111570    2.227273   \n",
       "20            0.318182  0.227273    0.625000  1.964286  0.111570    1.818182   \n",
       "21            0.227273  0.227273    0.625000  2.750000  0.144628    2.060606   \n",
       "22            0.363636  0.227273    1.000000  2.750000  0.144628         inf   \n",
       "\n",
       "    zhangs_metric  \n",
       "0        1.000000  \n",
       "1        0.933333  \n",
       "2        1.000000  \n",
       "3        0.875000  \n",
       "4        0.523810  \n",
       "5        0.666667  \n",
       "6        1.000000  \n",
       "7        0.937500  \n",
       "8        0.875000  \n",
       "9        1.000000  \n",
       "10       1.000000  \n",
       "11       0.937500  \n",
       "12       1.000000  \n",
       "13       0.937500  \n",
       "14       0.657143  \n",
       "15       0.657143  \n",
       "16       0.550000  \n",
       "17       0.314286  \n",
       "18       0.440000  \n",
       "19       0.720000  \n",
       "20       0.771429  \n",
       "21       1.000000  \n",
       "22       0.823529  "
      ]
     },
     "execution_count": 39,
     "metadata": {},
     "output_type": "execute_result"
    }
   ],
   "source": [
    "# Aplicar o algoritimo apriori usando a função processar_regras_associacao_pf\n",
    "regras_pj = processar_regras_associacao_pj(filtered_df_pj_cidade, 0.2, 0.5)\n",
    "regras_pj"
   ]
  },
  {
   "cell_type": "code",
   "execution_count": 40,
   "metadata": {},
   "outputs": [
    {
     "name": "stdout",
     "output_type": "stream",
     "text": [
      "Produtos associados com o perfil de cliente: \n",
      " - 01. INDÚSTRIA\n",
      " - GRANDE\n",
      " - PR\n",
      " - CURITIBA\n",
      " - 1093-7/01\n",
      "\n",
      "Produtos consequentes de AUXILIO DIAGNOSTICO:\n",
      "CONSULTA CLINICA OCUPACIONAL\n",
      "CONSULTAS POR ESPECIALIDADES\n",
      "APERFEICOAMENTO PROFISSIONAL\n",
      "NAO SE APLICA\n",
      "\n",
      "Produtos consequentes de CONSULTA CLINICA OCUPACIONAL:\n",
      "AUXILIO DIAGNOSTICO\n",
      "CONSULTAS POR ESPECIALIDADES\n",
      "\n",
      "Produtos consequentes de CONSULTAS POR ESPECIALIDADES:\n",
      "AUXILIO DIAGNOSTICO\n",
      "CONSULTA CLINICA OCUPACIONAL\n",
      "\n",
      "Produtos consequentes de APERFEICOAMENTO PROFISSIONAL:\n",
      "APERFEICOAMENTO PROFISSIONAL / SEGURANÇA DO TRABALHO\n",
      "AUXILIO DIAGNOSTICO\n",
      "CAPACITACOES RELACIONADAS AS NRS\n",
      "\n",
      "Produtos consequentes de APERFEICOAMENTO PROFISSIONAL / SEGURANÇA DO TRABALHO:\n",
      "APERFEICOAMENTO PROFISSIONAL\n",
      "\n",
      "Produtos consequentes de ACOES CULTURAIS DE DIFUSAO NO ESTADO:\n",
      "APERFEICOAMENTO PROFISSIONAL / SEGURANÇA DO TRABALHO\n",
      "\n",
      "Produtos consequentes de METROLOGIA:\n",
      "APERFEICOAMENTO PROFISSIONAL / SEGURANÇA DO TRABALHO\n",
      "\n",
      "Produtos consequentes de CAPACITACOES RELACIONADAS AS NRS:\n",
      "APERFEICOAMENTO PROFISSIONAL / SEGURANÇA DO TRABALHO\n",
      "APERFEICOAMENTO PROFISSIONAL\n",
      "\n",
      "Produtos consequentes de NAO SE APLICA:\n",
      "AUXILIO DIAGNOSTICO\n"
     ]
    }
   ],
   "source": [
    "antecedents = regras_pj['antecedents'].explode().unique()\n",
    "\n",
    "num_columns = 2\n",
    "\n",
    "# Dividindo a lista de antecedentes em grupos com base no número de colunas\n",
    "chunks = [antecedents[i:i+num_columns] for i in range(0, len(antecedents), num_columns)]\n",
    "\n",
    "print(f'Produtos associados com o perfil de cliente: \\n - {selected_setor_ibge}\\n - {selected_porte}\\n - {selected_estado_pj}\\n - {selected_cidade_pj}\\n - {selected_cnae}')\n",
    "# Iterando sobre cada grupo de antecedentes e exibindo-os\n",
    "for chunk in chunks:\n",
    "    for antecedent in chunk:\n",
    "        consequents = filter_consequents(regras_pj, antecedent)\n",
    "        print(f\"\\nProdutos consequentes de {antecedent}:\")\n",
    "        for consequent in consequents:\n",
    "            print(consequent)"
   ]
  },
  {
   "cell_type": "code",
   "execution_count": 41,
   "metadata": {},
   "outputs": [
    {
     "name": "stderr",
     "output_type": "stream",
     "text": [
      "/home/hub-ia/anaconda3/envs/senai-sprint2/lib/python3.12/site-packages/plotly/io/_renderers.py:395: DeprecationWarning:\n",
      "\n",
      "distutils Version classes are deprecated. Use packaging.version instead.\n",
      "\n",
      "/home/hub-ia/anaconda3/envs/senai-sprint2/lib/python3.12/site-packages/plotly/io/_renderers.py:395: DeprecationWarning:\n",
      "\n",
      "distutils Version classes are deprecated. Use packaging.version instead.\n",
      "\n"
     ]
    },
    {
     "data": {
      "application/vnd.plotly.v1+json": {
       "config": {
        "plotlyServerURL": "https://plot.ly"
       },
       "data": [
        {
         "marker": {
          "color": "royalblue"
         },
         "name": "ENSINO FUNDAMENTAL INTERNACIONAL",
         "orientation": "h",
         "type": "bar",
         "x": [
          1,
          2,
          1
         ],
         "y": [
          "EDUCACAO CONTINUADA",
          "EDUCACAO INFANTIL",
          "INICIACAO PROFISSIONAL / TECNOLOGIA DA INFORMAÇÃO - SOFTWARE"
         ]
        },
        {
         "marker": {
          "color": "lightblue"
         },
         "name": "EDUCACAO CONTINUADA",
         "orientation": "h",
         "type": "bar",
         "x": [
          0,
          2,
          0
         ],
         "y": [
          "EDUCACAO CONTINUADA",
          "EDUCACAO INFANTIL",
          "INICIACAO PROFISSIONAL / TECNOLOGIA DA INFORMAÇÃO - SOFTWARE"
         ]
        }
       ],
       "layout": {
        "barmode": "stack",
        "template": {
         "data": {
          "bar": [
           {
            "error_x": {
             "color": "#2a3f5f"
            },
            "error_y": {
             "color": "#2a3f5f"
            },
            "marker": {
             "line": {
              "color": "#E5ECF6",
              "width": 0.5
             },
             "pattern": {
              "fillmode": "overlay",
              "size": 10,
              "solidity": 0.2
             }
            },
            "type": "bar"
           }
          ],
          "barpolar": [
           {
            "marker": {
             "line": {
              "color": "#E5ECF6",
              "width": 0.5
             },
             "pattern": {
              "fillmode": "overlay",
              "size": 10,
              "solidity": 0.2
             }
            },
            "type": "barpolar"
           }
          ],
          "carpet": [
           {
            "aaxis": {
             "endlinecolor": "#2a3f5f",
             "gridcolor": "white",
             "linecolor": "white",
             "minorgridcolor": "white",
             "startlinecolor": "#2a3f5f"
            },
            "baxis": {
             "endlinecolor": "#2a3f5f",
             "gridcolor": "white",
             "linecolor": "white",
             "minorgridcolor": "white",
             "startlinecolor": "#2a3f5f"
            },
            "type": "carpet"
           }
          ],
          "choropleth": [
           {
            "colorbar": {
             "outlinewidth": 0,
             "ticks": ""
            },
            "type": "choropleth"
           }
          ],
          "contour": [
           {
            "colorbar": {
             "outlinewidth": 0,
             "ticks": ""
            },
            "colorscale": [
             [
              0,
              "#0d0887"
             ],
             [
              0.1111111111111111,
              "#46039f"
             ],
             [
              0.2222222222222222,
              "#7201a8"
             ],
             [
              0.3333333333333333,
              "#9c179e"
             ],
             [
              0.4444444444444444,
              "#bd3786"
             ],
             [
              0.5555555555555556,
              "#d8576b"
             ],
             [
              0.6666666666666666,
              "#ed7953"
             ],
             [
              0.7777777777777778,
              "#fb9f3a"
             ],
             [
              0.8888888888888888,
              "#fdca26"
             ],
             [
              1,
              "#f0f921"
             ]
            ],
            "type": "contour"
           }
          ],
          "contourcarpet": [
           {
            "colorbar": {
             "outlinewidth": 0,
             "ticks": ""
            },
            "type": "contourcarpet"
           }
          ],
          "heatmap": [
           {
            "colorbar": {
             "outlinewidth": 0,
             "ticks": ""
            },
            "colorscale": [
             [
              0,
              "#0d0887"
             ],
             [
              0.1111111111111111,
              "#46039f"
             ],
             [
              0.2222222222222222,
              "#7201a8"
             ],
             [
              0.3333333333333333,
              "#9c179e"
             ],
             [
              0.4444444444444444,
              "#bd3786"
             ],
             [
              0.5555555555555556,
              "#d8576b"
             ],
             [
              0.6666666666666666,
              "#ed7953"
             ],
             [
              0.7777777777777778,
              "#fb9f3a"
             ],
             [
              0.8888888888888888,
              "#fdca26"
             ],
             [
              1,
              "#f0f921"
             ]
            ],
            "type": "heatmap"
           }
          ],
          "heatmapgl": [
           {
            "colorbar": {
             "outlinewidth": 0,
             "ticks": ""
            },
            "colorscale": [
             [
              0,
              "#0d0887"
             ],
             [
              0.1111111111111111,
              "#46039f"
             ],
             [
              0.2222222222222222,
              "#7201a8"
             ],
             [
              0.3333333333333333,
              "#9c179e"
             ],
             [
              0.4444444444444444,
              "#bd3786"
             ],
             [
              0.5555555555555556,
              "#d8576b"
             ],
             [
              0.6666666666666666,
              "#ed7953"
             ],
             [
              0.7777777777777778,
              "#fb9f3a"
             ],
             [
              0.8888888888888888,
              "#fdca26"
             ],
             [
              1,
              "#f0f921"
             ]
            ],
            "type": "heatmapgl"
           }
          ],
          "histogram": [
           {
            "marker": {
             "pattern": {
              "fillmode": "overlay",
              "size": 10,
              "solidity": 0.2
             }
            },
            "type": "histogram"
           }
          ],
          "histogram2d": [
           {
            "colorbar": {
             "outlinewidth": 0,
             "ticks": ""
            },
            "colorscale": [
             [
              0,
              "#0d0887"
             ],
             [
              0.1111111111111111,
              "#46039f"
             ],
             [
              0.2222222222222222,
              "#7201a8"
             ],
             [
              0.3333333333333333,
              "#9c179e"
             ],
             [
              0.4444444444444444,
              "#bd3786"
             ],
             [
              0.5555555555555556,
              "#d8576b"
             ],
             [
              0.6666666666666666,
              "#ed7953"
             ],
             [
              0.7777777777777778,
              "#fb9f3a"
             ],
             [
              0.8888888888888888,
              "#fdca26"
             ],
             [
              1,
              "#f0f921"
             ]
            ],
            "type": "histogram2d"
           }
          ],
          "histogram2dcontour": [
           {
            "colorbar": {
             "outlinewidth": 0,
             "ticks": ""
            },
            "colorscale": [
             [
              0,
              "#0d0887"
             ],
             [
              0.1111111111111111,
              "#46039f"
             ],
             [
              0.2222222222222222,
              "#7201a8"
             ],
             [
              0.3333333333333333,
              "#9c179e"
             ],
             [
              0.4444444444444444,
              "#bd3786"
             ],
             [
              0.5555555555555556,
              "#d8576b"
             ],
             [
              0.6666666666666666,
              "#ed7953"
             ],
             [
              0.7777777777777778,
              "#fb9f3a"
             ],
             [
              0.8888888888888888,
              "#fdca26"
             ],
             [
              1,
              "#f0f921"
             ]
            ],
            "type": "histogram2dcontour"
           }
          ],
          "mesh3d": [
           {
            "colorbar": {
             "outlinewidth": 0,
             "ticks": ""
            },
            "type": "mesh3d"
           }
          ],
          "parcoords": [
           {
            "line": {
             "colorbar": {
              "outlinewidth": 0,
              "ticks": ""
             }
            },
            "type": "parcoords"
           }
          ],
          "pie": [
           {
            "automargin": true,
            "type": "pie"
           }
          ],
          "scatter": [
           {
            "fillpattern": {
             "fillmode": "overlay",
             "size": 10,
             "solidity": 0.2
            },
            "type": "scatter"
           }
          ],
          "scatter3d": [
           {
            "line": {
             "colorbar": {
              "outlinewidth": 0,
              "ticks": ""
             }
            },
            "marker": {
             "colorbar": {
              "outlinewidth": 0,
              "ticks": ""
             }
            },
            "type": "scatter3d"
           }
          ],
          "scattercarpet": [
           {
            "marker": {
             "colorbar": {
              "outlinewidth": 0,
              "ticks": ""
             }
            },
            "type": "scattercarpet"
           }
          ],
          "scattergeo": [
           {
            "marker": {
             "colorbar": {
              "outlinewidth": 0,
              "ticks": ""
             }
            },
            "type": "scattergeo"
           }
          ],
          "scattergl": [
           {
            "marker": {
             "colorbar": {
              "outlinewidth": 0,
              "ticks": ""
             }
            },
            "type": "scattergl"
           }
          ],
          "scattermapbox": [
           {
            "marker": {
             "colorbar": {
              "outlinewidth": 0,
              "ticks": ""
             }
            },
            "type": "scattermapbox"
           }
          ],
          "scatterpolar": [
           {
            "marker": {
             "colorbar": {
              "outlinewidth": 0,
              "ticks": ""
             }
            },
            "type": "scatterpolar"
           }
          ],
          "scatterpolargl": [
           {
            "marker": {
             "colorbar": {
              "outlinewidth": 0,
              "ticks": ""
             }
            },
            "type": "scatterpolargl"
           }
          ],
          "scatterternary": [
           {
            "marker": {
             "colorbar": {
              "outlinewidth": 0,
              "ticks": ""
             }
            },
            "type": "scatterternary"
           }
          ],
          "surface": [
           {
            "colorbar": {
             "outlinewidth": 0,
             "ticks": ""
            },
            "colorscale": [
             [
              0,
              "#0d0887"
             ],
             [
              0.1111111111111111,
              "#46039f"
             ],
             [
              0.2222222222222222,
              "#7201a8"
             ],
             [
              0.3333333333333333,
              "#9c179e"
             ],
             [
              0.4444444444444444,
              "#bd3786"
             ],
             [
              0.5555555555555556,
              "#d8576b"
             ],
             [
              0.6666666666666666,
              "#ed7953"
             ],
             [
              0.7777777777777778,
              "#fb9f3a"
             ],
             [
              0.8888888888888888,
              "#fdca26"
             ],
             [
              1,
              "#f0f921"
             ]
            ],
            "type": "surface"
           }
          ],
          "table": [
           {
            "cells": {
             "fill": {
              "color": "#EBF0F8"
             },
             "line": {
              "color": "white"
             }
            },
            "header": {
             "fill": {
              "color": "#C8D4E3"
             },
             "line": {
              "color": "white"
             }
            },
            "type": "table"
           }
          ]
         },
         "layout": {
          "annotationdefaults": {
           "arrowcolor": "#2a3f5f",
           "arrowhead": 0,
           "arrowwidth": 1
          },
          "autotypenumbers": "strict",
          "coloraxis": {
           "colorbar": {
            "outlinewidth": 0,
            "ticks": ""
           }
          },
          "colorscale": {
           "diverging": [
            [
             0,
             "#8e0152"
            ],
            [
             0.1,
             "#c51b7d"
            ],
            [
             0.2,
             "#de77ae"
            ],
            [
             0.3,
             "#f1b6da"
            ],
            [
             0.4,
             "#fde0ef"
            ],
            [
             0.5,
             "#f7f7f7"
            ],
            [
             0.6,
             "#e6f5d0"
            ],
            [
             0.7,
             "#b8e186"
            ],
            [
             0.8,
             "#7fbc41"
            ],
            [
             0.9,
             "#4d9221"
            ],
            [
             1,
             "#276419"
            ]
           ],
           "sequential": [
            [
             0,
             "#0d0887"
            ],
            [
             0.1111111111111111,
             "#46039f"
            ],
            [
             0.2222222222222222,
             "#7201a8"
            ],
            [
             0.3333333333333333,
             "#9c179e"
            ],
            [
             0.4444444444444444,
             "#bd3786"
            ],
            [
             0.5555555555555556,
             "#d8576b"
            ],
            [
             0.6666666666666666,
             "#ed7953"
            ],
            [
             0.7777777777777778,
             "#fb9f3a"
            ],
            [
             0.8888888888888888,
             "#fdca26"
            ],
            [
             1,
             "#f0f921"
            ]
           ],
           "sequentialminus": [
            [
             0,
             "#0d0887"
            ],
            [
             0.1111111111111111,
             "#46039f"
            ],
            [
             0.2222222222222222,
             "#7201a8"
            ],
            [
             0.3333333333333333,
             "#9c179e"
            ],
            [
             0.4444444444444444,
             "#bd3786"
            ],
            [
             0.5555555555555556,
             "#d8576b"
            ],
            [
             0.6666666666666666,
             "#ed7953"
            ],
            [
             0.7777777777777778,
             "#fb9f3a"
            ],
            [
             0.8888888888888888,
             "#fdca26"
            ],
            [
             1,
             "#f0f921"
            ]
           ]
          },
          "colorway": [
           "#636efa",
           "#EF553B",
           "#00cc96",
           "#ab63fa",
           "#FFA15A",
           "#19d3f3",
           "#FF6692",
           "#B6E880",
           "#FF97FF",
           "#FECB52"
          ],
          "font": {
           "color": "#2a3f5f"
          },
          "geo": {
           "bgcolor": "white",
           "lakecolor": "white",
           "landcolor": "#E5ECF6",
           "showlakes": true,
           "showland": true,
           "subunitcolor": "white"
          },
          "hoverlabel": {
           "align": "left"
          },
          "hovermode": "closest",
          "mapbox": {
           "style": "light"
          },
          "paper_bgcolor": "white",
          "plot_bgcolor": "#E5ECF6",
          "polar": {
           "angularaxis": {
            "gridcolor": "white",
            "linecolor": "white",
            "ticks": ""
           },
           "bgcolor": "#E5ECF6",
           "radialaxis": {
            "gridcolor": "white",
            "linecolor": "white",
            "ticks": ""
           }
          },
          "scene": {
           "xaxis": {
            "backgroundcolor": "#E5ECF6",
            "gridcolor": "white",
            "gridwidth": 2,
            "linecolor": "white",
            "showbackground": true,
            "ticks": "",
            "zerolinecolor": "white"
           },
           "yaxis": {
            "backgroundcolor": "#E5ECF6",
            "gridcolor": "white",
            "gridwidth": 2,
            "linecolor": "white",
            "showbackground": true,
            "ticks": "",
            "zerolinecolor": "white"
           },
           "zaxis": {
            "backgroundcolor": "#E5ECF6",
            "gridcolor": "white",
            "gridwidth": 2,
            "linecolor": "white",
            "showbackground": true,
            "ticks": "",
            "zerolinecolor": "white"
           }
          },
          "shapedefaults": {
           "line": {
            "color": "#2a3f5f"
           }
          },
          "ternary": {
           "aaxis": {
            "gridcolor": "white",
            "linecolor": "white",
            "ticks": ""
           },
           "baxis": {
            "gridcolor": "white",
            "linecolor": "white",
            "ticks": ""
           },
           "bgcolor": "#E5ECF6",
           "caxis": {
            "gridcolor": "white",
            "linecolor": "white",
            "ticks": ""
           }
          },
          "title": {
           "x": 0.05
          },
          "xaxis": {
           "automargin": true,
           "gridcolor": "white",
           "linecolor": "white",
           "ticks": "",
           "title": {
            "standoff": 15
           },
           "zerolinecolor": "white",
           "zerolinewidth": 2
          },
          "yaxis": {
           "automargin": true,
           "gridcolor": "white",
           "linecolor": "white",
           "ticks": "",
           "title": {
            "standoff": 15
           },
           "zerolinecolor": "white",
           "zerolinewidth": 2
          }
         }
        },
        "title": {
         "text": "Gráfico de barras empilhadas relacionando produtos antecedentes com consequentes"
        },
        "xaxis": {
         "title": {
          "text": "Ocorrências"
         }
        },
        "yaxis": {
         "title": {
          "text": "Antecedents"
         }
        }
       }
      }
     },
     "metadata": {},
     "output_type": "display_data"
    }
   ],
   "source": [
    "# Construção do DataFrame para o Treemap\n",
    "data = {'antecedents': [], 'consequents': [], 'confidence': []}\n",
    "for index, row in regras_pf.iterrows():\n",
    "    antecedente = list(row['antecedents'])[0]  # Convertendo frozenset para lista\n",
    "    consequentes = list(row['consequents'])    # Convertendo frozenset para lista\n",
    "    confidence = row['confidence']      # Multiplicando por 100 para obter a porcentagem\n",
    "    for consequent in consequentes:\n",
    "        data['antecedents'].append(antecedente)\n",
    "        data['consequents'].append(consequent)\n",
    "        data['confidence'].append(confidence)\n",
    "\n",
    "# Criando o DataFrame\n",
    "df = pd.DataFrame(data)\n",
    "\n",
    "# Criando uma nova coluna contendo a contagem de ocorrências\n",
    "df['count'] = 1\n",
    "\n",
    "# Agrupando os dados para criar as barras empilhadas e ordenando a contagem de antecedentes em ordem decrescente\n",
    "grouped_df = df.groupby(['antecedents', 'consequents']).size().unstack(fill_value=0)\n",
    "grouped_df = grouped_df[grouped_df.sum().sort_values(ascending=False).index]\n",
    "\n",
    "# Criando o gráfico de barras empilhadas\n",
    "fig = go.Figure()\n",
    "\n",
    "# Define a paleta de cores em tons de azul\n",
    "colors = ['royalblue', 'lightblue', 'skyblue', 'deepskyblue', 'dodgerblue', 'cornflowerblue', 'steelblue']\n",
    "\n",
    "for i, consequent in enumerate(grouped_df.columns):\n",
    "    fig.add_trace(go.Bar(\n",
    "        y=grouped_df.index,\n",
    "        x=grouped_df[consequent],\n",
    "        name=consequent,\n",
    "        orientation='h',\n",
    "        marker=dict(color=colors[i % len(colors)])\n",
    "    ))\n",
    "\n",
    "# Atualizando o layout do gráfico\n",
    "fig.update_layout(\n",
    "    barmode='stack',\n",
    "    yaxis_title='Antecedents',\n",
    "    xaxis_title='Ocorrências',\n",
    "    title='Gráfico de barras empilhadas relacionando produtos antecedentes com consequentes'\n",
    ")\n",
    "#fig.update_layout(height=800, width=1400)\n",
    "\n",
    "# Exibindo o gráfico\n",
    "fig.show()"
   ]
  },
  {
   "cell_type": "code",
   "execution_count": 42,
   "metadata": {},
   "outputs": [
    {
     "name": "stdout",
     "output_type": "stream",
     "text": [
      "Produtos comprados e recomendados do cliente 028AF07E-525C-E211-BEC9-00155D726C02\n",
      "\n",
      "Produtos comprados:\n",
      "ESTAGIO\n",
      "APERFEICOAMENTO PROFISSIONAL / METALMECÂNICA - FABRICAÇÃO MECÂNICA\n",
      "APERFEICOAMENTO PROFISSIONAL / GESTÃO\n",
      "APERFEICOAMENTO PROFISSIONAL / EDUCAÇÃO\n",
      "EDUCACAO CONTINUADA\n",
      "ACOES CULTURAIS DE DIFUSAO NO ESTADO\n",
      "ACOES CULTURAIS NA EDUCACAO\n",
      "LAUDOS\n",
      "ANALISE ERGONOMICA DO TRABALHO - NR 17\n",
      "\n",
      "Produtos recomendados:\n",
      "APERFEICOAMENTO PROFISSIONAL / SEGURANÇA DO TRABALHO\n"
     ]
    }
   ],
   "source": [
    "# Recomendação de produtos por cliente\n",
    "produto_counts = filtered_df_pj.groupby(['ID Cliente', 'Produto GPOM e Área de Atuação']).size()\n",
    "\n",
    "grupo_clientes = df_pj.groupby(['ID Cliente']).size()\n",
    "\n",
    "# Filtrar para obter apenas clientes com produtos que aparecem mais de uma vez\n",
    "clientes_com_produtos_repetidos = produto_counts[produto_counts > 2].reset_index()['ID Cliente'].unique()\n",
    "\n",
    "# Mudar o valor entre [] para mudar o cliente\n",
    "select_cliente = clientes_com_produtos_repetidos[0]\n",
    "\n",
    "produtos = filtered_df_pj[filtered_df_pj['ID Cliente'] == select_cliente]['Produto GPOM e Área de Atuação'].unique()\n",
    "associated_products = find_associated_products(produtos, regras_pj)\n",
    "\n",
    "print(f'Produtos comprados e recomendados do cliente {select_cliente}\\n')\n",
    "print('Produtos comprados:')\n",
    "for produto in produtos:\n",
    "    print(produto)\n",
    "\n",
    "print('\\nProdutos recomendados:')\n",
    "for recomendado in associated_products:\n",
    "    print(recomendado)\n",
    "    "
   ]
  }
 ],
 "metadata": {
  "kernelspec": {
   "display_name": "senai-env",
   "language": "python",
   "name": "python3"
  },
  "language_info": {
   "codemirror_mode": {
    "name": "ipython",
    "version": 3
   },
   "file_extension": ".py",
   "mimetype": "text/x-python",
   "name": "python",
   "nbconvert_exporter": "python",
   "pygments_lexer": "ipython3",
   "version": "3.12.0"
  }
 },
 "nbformat": 4,
 "nbformat_minor": 2
}
